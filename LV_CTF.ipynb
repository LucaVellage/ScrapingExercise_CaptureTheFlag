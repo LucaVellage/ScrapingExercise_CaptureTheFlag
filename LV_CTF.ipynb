{
 "cells": [
  {
   "cell_type": "markdown",
   "metadata": {},
   "source": [
    "## Capture the Flag\n",
    "\n",
    "Website: https://hertie-scraping-website.vercel.app  \n",
    "script to scrape 40 flags"
   ]
  },
  {
   "cell_type": "code",
   "execution_count": 2,
   "metadata": {},
   "outputs": [],
   "source": [
    "from bs4 import BeautifulSoup\n",
    "import requests\n",
    "import re"
   ]
  },
  {
   "cell_type": "code",
   "execution_count": 3,
   "metadata": {},
   "outputs": [],
   "source": [
    "#Defining URL: \n",
    "url = \"https://hertie-scraping-website.vercel.app\"\n",
    "\n",
    "#Parsing content of page\n",
    "req = requests.get(url)\n",
    "soup = BeautifulSoup(req.content, \"html.parser\")\n",
    "\n",
    "#Initialising list of flags \n",
    "flags = []"
   ]
  },
  {
   "cell_type": "markdown",
   "metadata": {},
   "source": [
    "#### Scraping Flag 1-7"
   ]
  },
  {
   "cell_type": "code",
   "execution_count": 4,
   "metadata": {},
   "outputs": [
    {
     "data": {
      "text/plain": [
       "['flag-1', 'flag-2', 'flag-3', 'flag-4', 'flag-5', 'flag-6', 'flag-7']"
      ]
     },
     "execution_count": 4,
     "metadata": {},
     "output_type": "execute_result"
    }
   ],
   "source": [
    "#Finding all p tags that contain flags \n",
    "p_tags_textbase = soup.find_all('p', class_='text-base')\n",
    "\n",
    "#using regex to extract flags 1-7\n",
    "for flag in p_tags_textbase:\n",
    "\n",
    "    #regex extracts statements that extactly match this pattern: starting with 'flag-' followed by any digit\n",
    "    if re.fullmatch(r'flag-\\d+', flag.text):\n",
    "        flags.append(flag.text)\n",
    "\n",
    "flags   \n"
   ]
  },
  {
   "cell_type": "markdown",
   "metadata": {},
   "source": [
    "#### Scraping Flag 8"
   ]
  },
  {
   "cell_type": "code",
   "execution_count": 5,
   "metadata": {},
   "outputs": [
    {
     "data": {
      "text/plain": [
       "['flag-1',\n",
       " 'flag-2',\n",
       " 'flag-3',\n",
       " 'flag-4',\n",
       " 'flag-5',\n",
       " 'flag-6',\n",
       " 'flag-7',\n",
       " 'flag-8']"
      ]
     },
     "execution_count": 5,
     "metadata": {},
     "output_type": "execute_result"
    }
   ],
   "source": [
    "p_tags_texttransparent = soup.find('p', class_='text-transparent')\n",
    "\n",
    "#using regex in the p tag, class = text-transparent to match an expression with the pattern: starting with 'flag-' followed by any digit \n",
    "if p_tags_texttransparent: \n",
    "        match = re.fullmatch(r'flag-\\d+', p_tags_texttransparent.text)\n",
    "        if match:\n",
    "                # match.group() returns full text of the match\n",
    "               flags.append(match.group())\n",
    "\n",
    "flags   "
   ]
  },
  {
   "cell_type": "markdown",
   "metadata": {},
   "source": [
    "#### Scraping Flag 9"
   ]
  },
  {
   "cell_type": "code",
   "execution_count": 6,
   "metadata": {},
   "outputs": [
    {
     "data": {
      "text/plain": [
       "['flag-1',\n",
       " 'flag-2',\n",
       " 'flag-3',\n",
       " 'flag-4',\n",
       " 'flag-5',\n",
       " 'flag-6',\n",
       " 'flag-7',\n",
       " 'flag-8',\n",
       " 'flag-9']"
      ]
     },
     "execution_count": 6,
     "metadata": {},
     "output_type": "execute_result"
    }
   ],
   "source": [
    "div_tag_sticky = soup.find('div', class_='h-20 sticky')\n",
    "\n",
    "#Navigating to alt attribute within first img tag\n",
    "if div_tag_sticky:\n",
    "    \n",
    "        #navigating to img tag\n",
    "        img_tag = div_tag_sticky.find('img') \n",
    "\n",
    "        if img_tag:\n",
    "\n",
    "                #Applyin regex to alt attribute within image tag\n",
    "                match = re.fullmatch(r'flag-\\d+', img_tag.get('alt', ''))\n",
    "        \n",
    "                if match:\n",
    "                # match.group() returns full text of the match\n",
    "                        flags.append(match.group())\n",
    "    \n",
    "\n",
    "\n",
    "flags   "
   ]
  },
  {
   "cell_type": "markdown",
   "metadata": {},
   "source": [
    "#### Scraping Flag 10-40"
   ]
  },
  {
   "cell_type": "code",
   "execution_count": 7,
   "metadata": {},
   "outputs": [
    {
     "data": {
      "text/plain": [
       "['flag-1',\n",
       " 'flag-2',\n",
       " 'flag-3',\n",
       " 'flag-4',\n",
       " 'flag-5',\n",
       " 'flag-6',\n",
       " 'flag-7',\n",
       " 'flag-8',\n",
       " 'flag-9',\n",
       " 'flag-10',\n",
       " 'flag-11',\n",
       " 'flag-12',\n",
       " 'flag-13',\n",
       " 'flag-14',\n",
       " 'flag-15',\n",
       " 'flag-16',\n",
       " 'flag-17',\n",
       " 'flag-18',\n",
       " 'flag-19',\n",
       " 'flag-20',\n",
       " 'flag-21',\n",
       " 'flag-22',\n",
       " 'flag-23',\n",
       " 'flag-24',\n",
       " 'flag-25',\n",
       " 'flag-26',\n",
       " 'flag-27',\n",
       " 'flag-28',\n",
       " 'flag-29',\n",
       " 'flag-30',\n",
       " 'flag-31',\n",
       " 'flag-32',\n",
       " 'flag-33',\n",
       " 'flag-34',\n",
       " 'flag-35',\n",
       " 'flag-36',\n",
       " 'flag-37',\n",
       " 'flag-38',\n",
       " 'flag-39',\n",
       " 'flag-40']"
      ]
     },
     "execution_count": 7,
     "metadata": {},
     "output_type": "execute_result"
    }
   ],
   "source": [
    "# Finding all div tags with element id starting with \"flag-\"\n",
    "div_tag_flag = soup.find_all('div', class_='size-10')\n",
    "\n",
    "\n",
    "# Looping through each div element\n",
    "for flag in div_tag_flag:\n",
    "    \n",
    "    # navigating to class and id of child div \n",
    "    inner_div = flag.find('div')\n",
    "\n",
    "    if inner_div:\n",
    "\n",
    "        # navigating to ID attribute \n",
    "        id_value = inner_div.get('id')\n",
    "\n",
    "        #Applying regex to extract flags\n",
    "        if id_value and re.fullmatch(r'flag-\\d+', id_value):\n",
    "            flags.append(id_value)\n",
    "        \n",
    "        # navigating to class attribute\n",
    "        class_values = inner_div.get('class', [])\n",
    "\n",
    "        #Applying regex to extract flags\n",
    "        for class_value in class_values:\n",
    "            if re.fullmatch(r'flag-\\d+', class_value):\n",
    "                flags.append(class_value)\n",
    "flags\n"
   ]
  }
 ],
 "metadata": {
  "kernelspec": {
   "display_name": "Scraping",
   "language": "python",
   "name": "python3"
  },
  "language_info": {
   "codemirror_mode": {
    "name": "ipython",
    "version": 3
   },
   "file_extension": ".py",
   "mimetype": "text/x-python",
   "name": "python",
   "nbconvert_exporter": "python",
   "pygments_lexer": "ipython3",
   "version": "3.11.8"
  }
 },
 "nbformat": 4,
 "nbformat_minor": 2
}
